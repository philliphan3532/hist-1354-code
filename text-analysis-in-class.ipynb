{
 "cells": [
  {
   "cell_type": "code",
   "execution_count": 7,
   "metadata": {},
   "outputs": [
    {
     "name": "stdout",
     "output_type": "stream",
     "text": [
      "<!DOCTYPE html>\n",
      "<html lang=\"en\"><head><meta charset=\"utf-8\"/><link href=\"/favicon.ico\" rel=\"icon\"/><meta content=\"width=device-width,initial-scale=1\" name=\"viewport\"/><meta content=\"#452121\" name=\"theme-color\"/><meta content=\"A searchable online edition of the Proceedings of the Old Bailey, 1674-1913.\" name=\"description\"/><link href=\"/logo192.png\" rel=\"apple-touch-icon\"/><link href=\"/manifest.json\" rel=\"manifest\"/><title>The Proceedings of the Old Bailey</title><script async=\"\" crossorigin=\"anonymous\" src=\"https://pagead2.googlesyndication.com/pagead/js/adsbygoogle.js?client=ca-pub-4039069653685742\"></script><script defer=\"defer\" src=\"/static/js/main.bf9fcd7b.js\"></script><link href=\"/static/css/main.66bdc266.css\" rel=\"stylesheet\"/></head><body><noscript>You need to enable JavaScript to run this app.</noscript><div id=\"root\"></div></body></html>\n"
     ]
    },
    {
     "ename": "AttributeError",
     "evalue": "'NoneType' object has no attribute 'find_all'",
     "output_type": "error",
     "traceback": [
      "\u001b[1;31m---------------------------------------------------------------------------\u001b[0m",
      "\u001b[1;31mAttributeError\u001b[0m                            Traceback (most recent call last)",
      "Cell \u001b[1;32mIn[7], line 15\u001b[0m\n\u001b[0;32m     12\u001b[0m transcript_div \u001b[38;5;241m=\u001b[39m soup\u001b[38;5;241m.\u001b[39mfind(\u001b[38;5;124m'\u001b[39m\u001b[38;5;124mdiv\u001b[39m\u001b[38;5;124m'\u001b[39m, class_\u001b[38;5;241m=\u001b[39m\u001b[38;5;124m'\u001b[39m\u001b[38;5;124msource-text text-break border\u001b[39m\u001b[38;5;124m'\u001b[39m)\n\u001b[0;32m     14\u001b[0m \u001b[38;5;66;03m# Find all paragraph tags within this div\u001b[39;00m\n\u001b[1;32m---> 15\u001b[0m paragraphs \u001b[38;5;241m=\u001b[39m transcript_div\u001b[38;5;241m.\u001b[39mfind_all(\u001b[38;5;124m'\u001b[39m\u001b[38;5;124mp\u001b[39m\u001b[38;5;124m'\u001b[39m)\n\u001b[0;32m     17\u001b[0m \u001b[38;5;66;03m# Extract and print the text from each paragraph\u001b[39;00m\n\u001b[0;32m     18\u001b[0m \u001b[38;5;28;01mfor\u001b[39;00m p \u001b[38;5;129;01min\u001b[39;00m paragraphs:\n",
      "\u001b[1;31mAttributeError\u001b[0m: 'NoneType' object has no attribute 'find_all'"
     ]
    }
   ],
   "source": [
    "from bs4 import BeautifulSoup\n",
    "\n",
    "with open('old-bailey.html', 'r', encoding='utf-8') as file:\n",
    "    html_content = file.read()\n",
    "\n",
    "soup = BeautifulSoup(html_content, 'html.parser')\n",
    "print(soup)\n",
    "\n",
    "transcript_div = soup.find('div', class_='source-text text-break border')\n",
    "\n",
    "paragraphs = transcript_div.find_all('p')\n",
    "\n",
    "for p in paragraphs:\n",
    "    print(p.get_text(strip=True))"
   ]
  }
 ],
 "metadata": {
  "kernelspec": {
   "display_name": "base",
   "language": "python",
   "name": "python3"
  },
  "language_info": {
   "codemirror_mode": {
    "name": "ipython",
    "version": 3
   },
   "file_extension": ".py",
   "mimetype": "text/x-python",
   "name": "python",
   "nbconvert_exporter": "python",
   "pygments_lexer": "ipython3",
   "version": "3.11.7"
  }
 },
 "nbformat": 4,
 "nbformat_minor": 2
}
