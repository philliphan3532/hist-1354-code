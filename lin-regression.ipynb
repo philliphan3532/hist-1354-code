{
 "cells": [
  {
   "cell_type": "code",
   "execution_count": 8,
   "metadata": {},
   "outputs": [
    {
     "data": {
      "text/html": [
       "<div><style>\n",
       ".dataframe > thead > tr,\n",
       ".dataframe > tbody > tr {\n",
       "  text-align: right;\n",
       "  white-space: pre-wrap;\n",
       "}\n",
       "</style>\n",
       "<small>shape: (200, 5)</small><table border=\"1\" class=\"dataframe\"><thead><tr><th>political_tension</th><th>economic_instability</th><th>social_movement</th><th>international_involvement</th><th>conflict</th></tr><tr><td>i64</td><td>i64</td><td>i64</td><td>i64</td><td>i64</td></tr></thead><tbody><tr><td>7</td><td>6</td><td>0</td><td>0</td><td>1</td></tr><tr><td>4</td><td>1</td><td>0</td><td>1</td><td>0</td></tr><tr><td>8</td><td>9</td><td>0</td><td>1</td><td>1</td></tr><tr><td>5</td><td>6</td><td>1</td><td>0</td><td>0</td></tr><tr><td>7</td><td>3</td><td>0</td><td>1</td><td>0</td></tr><tr><td>&hellip;</td><td>&hellip;</td><td>&hellip;</td><td>&hellip;</td><td>&hellip;</td></tr><tr><td>8</td><td>1</td><td>0</td><td>0</td><td>0</td></tr><tr><td>5</td><td>2</td><td>1</td><td>1</td><td>0</td></tr><tr><td>4</td><td>6</td><td>0</td><td>0</td><td>0</td></tr><tr><td>2</td><td>9</td><td>0</td><td>0</td><td>0</td></tr><tr><td>6</td><td>8</td><td>0</td><td>1</td><td>1</td></tr></tbody></table></div>"
      ],
      "text/plain": [
       "shape: (200, 5)\n",
       "┌───────────────────┬──────────────────────┬─────────────────┬──────────────────────────┬──────────┐\n",
       "│ political_tension ┆ economic_instability ┆ social_movement ┆ international_involvemen ┆ conflict │\n",
       "│ ---               ┆ ---                  ┆ ---             ┆ t                        ┆ ---      │\n",
       "│ i64               ┆ i64                  ┆ i64             ┆ ---                      ┆ i64      │\n",
       "│                   ┆                      ┆                 ┆ i64                      ┆          │\n",
       "╞═══════════════════╪══════════════════════╪═════════════════╪══════════════════════════╪══════════╡\n",
       "│ 7                 ┆ 6                    ┆ 0               ┆ 0                        ┆ 1        │\n",
       "│ 4                 ┆ 1                    ┆ 0               ┆ 1                        ┆ 0        │\n",
       "│ 8                 ┆ 9                    ┆ 0               ┆ 1                        ┆ 1        │\n",
       "│ 5                 ┆ 6                    ┆ 1               ┆ 0                        ┆ 0        │\n",
       "│ 7                 ┆ 3                    ┆ 0               ┆ 1                        ┆ 0        │\n",
       "│ …                 ┆ …                    ┆ …               ┆ …                        ┆ …        │\n",
       "│ 8                 ┆ 1                    ┆ 0               ┆ 0                        ┆ 0        │\n",
       "│ 5                 ┆ 2                    ┆ 1               ┆ 1                        ┆ 0        │\n",
       "│ 4                 ┆ 6                    ┆ 0               ┆ 0                        ┆ 0        │\n",
       "│ 2                 ┆ 9                    ┆ 0               ┆ 0                        ┆ 0        │\n",
       "│ 6                 ┆ 8                    ┆ 0               ┆ 1                        ┆ 1        │\n",
       "└───────────────────┴──────────────────────┴─────────────────┴──────────────────────────┴──────────┘"
      ]
     },
     "metadata": {},
     "output_type": "display_data"
    }
   ],
   "source": [
    "import polars as pl\n",
    "import numpy as np\n",
    "import matplotlib.pyplot as plt\n",
    "import sklearn\n",
    "\n",
    "conflict_factors = pl.read_csv('conflict_factors.csv')\n",
    "display(conflict_factors)\n",
    "\n",
    "training = conflict_factors.head(100)\n",
    "test = conflict_factors.tail(100)\n",
    "\n"
   ]
  }
 ],
 "metadata": {
  "kernelspec": {
   "display_name": "base",
   "language": "python",
   "name": "python3"
  },
  "language_info": {
   "codemirror_mode": {
    "name": "ipython",
    "version": 3
   },
   "file_extension": ".py",
   "mimetype": "text/x-python",
   "name": "python",
   "nbconvert_exporter": "python",
   "pygments_lexer": "ipython3",
   "version": "3.11.7"
  }
 },
 "nbformat": 4,
 "nbformat_minor": 2
}
